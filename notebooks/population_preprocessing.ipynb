{
 "cells": [
  {
   "cell_type": "code",
   "execution_count": 5,
   "id": "3cb50e90-efcc-4be3-a0d5-ba43b2c015c5",
   "metadata": {},
   "outputs": [],
   "source": [
    "import pandas as pd\n",
    "from simpledbf import Dbf5   \n",
    "    \n",
    "def population_preprocessing(input_path = '../data/manual/JRC_POPULATION_2018.dbf', output_path='test.pkl'):\n",
    "    # input_path needs to direct to the population dataset as a .dbf file\n",
    "    \n",
    "    dbf = Dbf5(input_path)\n",
    "    df = dbf.to_dataframe()\n",
    "    df.groupby('GRD_ID')['OBJECTID'].count().sort_values()\n",
    "    df[['N', 'E']] = df[\"GRD_ID\"].str.split(\"N\", n = 1, expand = True)[1].str.split(\"E\", n = 1, expand = True).astype(int)\n",
    "    df = df.set_index(['N', 'E'])\n",
    "    \n",
    "    df = df[['TOT_P_2018', 'CNTR_ID']]\n",
    "    df.columns = ['Population', 'Country']\n",
    "    \n",
    "    # Filter data (this could be changed at a later stage)\n",
    "    df = df[df['Country']=='DE']\n",
    "    \n",
    "    df.to_pickle(output_path)"
   ]
  },
  {
   "cell_type": "code",
   "execution_count": 6,
   "id": "b6022ad5-6292-4c74-836a-b1018f9ae3cb",
   "metadata": {},
   "outputs": [],
   "source": []
  },
  {
   "cell_type": "code",
   "execution_count": null,
   "id": "0bef84fb-09df-40c3-b583-4be8169f8f70",
   "metadata": {},
   "outputs": [],
   "source": []
  }
 ],
 "metadata": {
  "kernelspec": {
   "display_name": "Python 3 (ipykernel)",
   "language": "python",
   "name": "python3"
  },
  "language_info": {
   "codemirror_mode": {
    "name": "ipython",
    "version": 3
   },
   "file_extension": ".py",
   "mimetype": "text/x-python",
   "name": "python",
   "nbconvert_exporter": "python",
   "pygments_lexer": "ipython3",
   "version": "3.8.12"
  }
 },
 "nbformat": 4,
 "nbformat_minor": 5
}
