{
 "cells": [
  {
   "cell_type": "code",
   "execution_count": 9,
   "id": "6b44cac5-7ba9-4822-b932-1e0803ef2444",
   "metadata": {},
   "outputs": [],
   "source": [
    "import pandas as pd\n",
    "import numpy as np"
   ]
  },
  {
   "cell_type": "code",
   "execution_count": 13,
   "id": "0b6a8024-4892-408b-9ddd-3f8901c790e9",
   "metadata": {},
   "outputs": [],
   "source": [
    "def disamenity_costs(radius_from, radius_to, scenario = 'low'):\n",
    "    # calculates the disamenity costs in € per person, per annum, per MW installed wind capacity \n",
    "    # radius from is the inner radius in km and radius_to the outer radius of the assessed area.\n",
    "  \n",
    "    if scenario == 'low':\n",
    "        cost_slope = 31;\n",
    "        max_distance = 4;\n",
    "    elif scenario == 'high':\n",
    "        cost_slope = 64;\n",
    "        max_distance = 8;\n",
    "    else:\n",
    "        print('Not a valid scenario name')\n",
    "        \n",
    "    const = cost_slope * np.log(max_distance);\n",
    "    \n",
    "    # costs per household, per year, and per windpark\n",
    "    costs = - cost_slope * np.log((radius_to + radius_from)/2) + const;\n",
    "\n",
    "    # Further assumptions\n",
    "    GDP_EUR = 0.86;\n",
    "    people_household = 2;\n",
    "    turbines_park = 12.5;\n",
    "    MW_turbine = 2;\n",
    "    \n",
    "    # disamenity costs\n",
    "    return(costs / GDP_EUR / people_household / turbines_park / MW_turbine)"
   ]
  },
  {
   "cell_type": "code",
   "execution_count": 15,
   "id": "e5a2f350-4b2d-464f-9f23-7be8facc8bf9",
   "metadata": {},
   "outputs": [
    {
     "data": {
      "text/plain": [
       "0.70710946147357"
      ]
     },
     "execution_count": 15,
     "metadata": {},
     "output_type": "execute_result"
    }
   ],
   "source": [
    "disamenity_costs(1,2)"
   ]
  },
  {
   "cell_type": "code",
   "execution_count": null,
   "id": "79c952f6-e79c-4153-9bc2-471d3b1bb0d0",
   "metadata": {},
   "outputs": [],
   "source": []
  }
 ],
 "metadata": {
  "kernelspec": {
   "display_name": "Python 3",
   "language": "python",
   "name": "python3"
  },
  "language_info": {
   "codemirror_mode": {
    "name": "ipython",
    "version": 3
   },
   "file_extension": ".py",
   "mimetype": "text/x-python",
   "name": "python",
   "nbconvert_exporter": "python",
   "pygments_lexer": "ipython3",
   "version": "3.9.1"
  }
 },
 "nbformat": 4,
 "nbformat_minor": 5
}
