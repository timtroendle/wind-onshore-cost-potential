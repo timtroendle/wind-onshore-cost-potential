{
 "cells": [
  {
   "cell_type": "code",
   "execution_count": 10,
   "id": "6b44cac5-7ba9-4822-b932-1e0803ef2444",
   "metadata": {},
   "outputs": [],
   "source": [
    "import pandas as pd\n",
    "import numpy as np"
   ]
  },
  {
   "cell_type": "code",
   "execution_count": 48,
   "id": "0b6a8024-4892-408b-9ddd-3f8901c790e9",
   "metadata": {},
   "outputs": [],
   "source": [
    "def disamenity_costs(radius_from, radius_to, scenario = 'low'):\n",
    "    # calculates the disamenity costs in € per person, per annum, per MW installed wind capacity \n",
    "    # radius from is the inner radius in km and radius_to the outer radius of the assessed area.\n",
    "  \n",
    "    if scenario == 'low':\n",
    "        cost_slope = -31;\n",
    "        max_distance = 4;\n",
    "    elif scenario == 'high':\n",
    "        cost_slope = -64;\n",
    "        max_distance = 8;\n",
    "    else:\n",
    "        print('Not a valid scenario name')\n",
    "      \n",
    "    assert (radius_to > 0) & (radius_from >= 0), 'radius must be positive'\n",
    "    assert radius_to > radius_from, 'radius_to must be larger than radius_from'\n",
    "    assert radius_to <= max_distance, f'radius_to exceeds the maximal distance'\n",
    "\n",
    "    \n",
    "    # costs per household, per year, and per windpark\n",
    "    area_weighted_costs = cost_slope/2 *(radius_to**2 * (2*np.log(radius_to) -1) - (radius_from**2 * (2*np.log(radius_from) -1))) / (radius_to**2 - radius_from**2) -  cost_slope * np.log(max_distance);\n",
    "\n",
    "    # Further assumptions\n",
    "    GBP_EUR = 0.86;\n",
    "    people_household = 2;\n",
    "    turbines_park = 12.5;\n",
    "    MW_turbine = 2;\n",
    "    \n",
    "    # disamenity costs\n",
    "    return(area_weighted_costs / GBP_EUR / people_household / turbines_park / MW_turbine)"
   ]
  },
  {
   "cell_type": "code",
   "execution_count": 54,
   "id": "e5a2f350-4b2d-464f-9f23-7be8facc8bf9",
   "metadata": {},
   "outputs": [
    {
     "data": {
      "text/plain": [
       "56.3962678911559"
      ]
     },
     "execution_count": 54,
     "metadata": {},
     "output_type": "execute_result"
    }
   ],
   "source": [
    "disamenity_costs(0.2,1)"
   ]
  },
  {
   "cell_type": "code",
   "execution_count": 53,
   "id": "79c952f6-e79c-4153-9bc2-471d3b1bb0d0",
   "metadata": {},
   "outputs": [
    {
     "data": {
      "text/plain": [
       "4.033814540850457"
      ]
     },
     "execution_count": 53,
     "metadata": {},
     "output_type": "execute_result"
    }
   ],
   "source": [
    "disamenity_costs(3,4)"
   ]
  },
  {
   "cell_type": "code",
   "execution_count": null,
   "id": "aef41aaa-862c-4bbe-8fbc-d6dbbd12546a",
   "metadata": {},
   "outputs": [],
   "source": []
  }
 ],
 "metadata": {
  "kernelspec": {
   "display_name": "Python 3 (ipykernel)",
   "language": "python",
   "name": "python3"
  },
  "language_info": {
   "codemirror_mode": {
    "name": "ipython",
    "version": 3
   },
   "file_extension": ".py",
   "mimetype": "text/x-python",
   "name": "python",
   "nbconvert_exporter": "python",
   "pygments_lexer": "ipython3",
   "version": "3.8.12"
  }
 },
 "nbformat": 4,
 "nbformat_minor": 5
}
