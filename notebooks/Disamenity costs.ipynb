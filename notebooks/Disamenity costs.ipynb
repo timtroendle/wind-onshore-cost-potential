{
 "cells": [
  {
   "cell_type": "code",
   "execution_count": 1,
   "id": "6b44cac5-7ba9-4822-b932-1e0803ef2444",
   "metadata": {},
   "outputs": [],
   "source": [
    "import pandas as pd\n",
    "import numpy as np"
   ]
  },
  {
   "cell_type": "code",
   "execution_count": 2,
   "id": "856054df",
   "metadata": {},
   "outputs": [],
   "source": [
    "import sys\n",
    "from os import path        \n",
    "sys.path.append('../scripts')\n",
    "from file_management import tif_data\n",
    "%load_ext autoreload\n",
    "%autoreload 2"
   ]
  },
  {
   "cell_type": "code",
   "execution_count": 12,
   "id": "4466b68e",
   "metadata": {},
   "outputs": [
    {
     "data": {
      "text/plain": [
       "array([[0., 0., 0., ..., 0., 0., 0.],\n",
       "       [0., 0., 0., ..., 0., 0., 0.],\n",
       "       [0., 0., 0., ..., 0., 0., 0.],\n",
       "       ...,\n",
       "       [0., 0., 0., ..., 0., 0., 0.],\n",
       "       [0., 0., 0., ..., 0., 0., 0.],\n",
       "       [0., 0., 0., ..., 0., 0., 0.]])"
      ]
     },
     "execution_count": 12,
     "metadata": {},
     "output_type": "execute_result"
    }
   ],
   "source": [
    "raw = tif_data('../build/population-within-1km.tif')\n",
    "raw"
   ]
  },
  {
   "cell_type": "code",
   "execution_count": 11,
   "id": "500eb08a",
   "metadata": {},
   "outputs": [
    {
     "data": {
      "text/plain": [
       "array([[0, 0, 0, ..., 0, 0, 0],\n",
       "       [0, 0, 0, ..., 0, 0, 0],\n",
       "       [0, 0, 0, ..., 0, 0, 0],\n",
       "       ...,\n",
       "       [0, 0, 0, ..., 0, 0, 0],\n",
       "       [0, 0, 0, ..., 0, 0, 0],\n",
       "       [0, 0, 0, ..., 0, 0, 0]])"
      ]
     },
     "execution_count": 11,
     "metadata": {},
     "output_type": "execute_result"
    }
   ],
   "source": [
    "raw = tif_data('../build/data/population/JRC_1K_POP_2018.tif', replace_data=)\n",
    "raw.data * (1-raw.mask)"
   ]
  },
  {
   "cell_type": "code",
   "execution_count": 38,
   "id": "16874863",
   "metadata": {},
   "outputs": [
    {
     "data": {
      "text/plain": [
       "4472"
      ]
     },
     "execution_count": 38,
     "metadata": {},
     "output_type": "execute_result"
    }
   ],
   "source": [
    "len(raw)"
   ]
  },
  {
   "cell_type": "code",
   "execution_count": 36,
   "id": "5de94564",
   "metadata": {},
   "outputs": [
    {
     "data": {
      "text/plain": [
       "4730542699999.17"
      ]
     },
     "execution_count": 36,
     "metadata": {},
     "output_type": "execute_result"
    }
   ],
   "source": [
    "sum(sum(raw))"
   ]
  },
  {
   "cell_type": "code",
   "execution_count": 7,
   "id": "6b6a9a98",
   "metadata": {},
   "outputs": [],
   "source": [
    "def disamenity_costs(radius_from, radius_to, scenario = 'low') -> float:\n",
    "    # Calculates the disamenity costs in € per person, per annum, per MW installed wind capacity\n",
    "    # radius from is the inner radius in km and radius_to the outer radius of the assessed area.\n",
    "\n",
    "    if scenario == 'low':\n",
    "        cost_slope = -31\n",
    "        max_distance = 4\n",
    "    elif scenario == 'high':\n",
    "        cost_slope = -64\n",
    "        max_distance = 8\n",
    "    else:\n",
    "        print('Not a valid scenario name')\n",
    "\n",
    "    assert (radius_to > 0) & (radius_from >= 0), 'radius must be positive'\n",
    "    assert radius_to > radius_from, 'radius_to must be larger than radius_from'\n",
    "    assert radius_to <= max_distance, f'radius_to exceeds the maximal distance'\n",
    "\n",
    "\n",
    "    # costs per household, per year, and per windpark\n",
    "    area_weighted_costs = \\\n",
    "        cost_slope/2 * (\n",
    "            radius_to**2 * (2*np.log(radius_to) -1)\n",
    "            -(radius_from**2 * (2*np.log(radius_from) -1)) # TODO: this log(radus_from) does not allow to calculate the the disamenity for an interval starting at zero\n",
    "        ) / (\n",
    "            radius_to**2\n",
    "            -radius_from**2\n",
    "        ) - cost_slope * np.log(max_distance)\n",
    "\n",
    "    # Further assumptions\n",
    "    GBP_EUR = 0.86\n",
    "    people_household = 2\n",
    "    turbines_park = 12.5\n",
    "    MW_turbine = 2\n",
    "\n",
    "    return(area_weighted_costs / GBP_EUR / people_household / turbines_park / MW_turbine)\n"
   ]
  },
  {
   "cell_type": "code",
   "execution_count": 17,
   "id": "e5a2f350-4b2d-464f-9f23-7be8facc8bf9",
   "metadata": {},
   "outputs": [
    {
     "data": {
      "text/plain": [
       "1.3115411137478117"
      ]
     },
     "execution_count": 17,
     "metadata": {},
     "output_type": "execute_result"
    }
   ],
   "source": [
    "disamenity_costs(0.2,1)"
   ]
  },
  {
   "cell_type": "code",
   "execution_count": 18,
   "id": "79c952f6-e79c-4153-9bc2-471d3b1bb0d0",
   "metadata": {},
   "outputs": [
    {
     "data": {
      "text/plain": [
       "0.1938948635863698"
      ]
     },
     "execution_count": 18,
     "metadata": {},
     "output_type": "execute_result"
    }
   ],
   "source": [
    "disamenity_costs(2,4)"
   ]
  },
  {
   "cell_type": "code",
   "execution_count": null,
   "id": "aef41aaa-862c-4bbe-8fbc-d6dbbd12546a",
   "metadata": {},
   "outputs": [],
   "source": []
  }
 ],
 "metadata": {
  "kernelspec": {
   "display_name": "Python 3 (ipykernel)",
   "language": "python",
   "name": "python3"
  },
  "language_info": {
   "codemirror_mode": {
    "name": "ipython",
    "version": 3
   },
   "file_extension": ".py",
   "mimetype": "text/x-python",
   "name": "python",
   "nbconvert_exporter": "python",
   "pygments_lexer": "ipython3",
   "version": "3.8.12"
  }
 },
 "nbformat": 4,
 "nbformat_minor": 5
}
