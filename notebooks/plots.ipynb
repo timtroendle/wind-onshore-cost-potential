{
 "cells": [
  {
   "cell_type": "code",
   "execution_count": 16,
   "id": "3cbb8801",
   "metadata": {},
   "outputs": [],
   "source": [
    "import pandas as pd\n",
    "import numpy_financial\n",
    "import matplotlib.pyplot as plt"
   ]
  },
  {
   "cell_type": "markdown",
   "id": "fa6f6807",
   "metadata": {},
   "source": [
    "# Input"
   ]
  },
  {
   "cell_type": "code",
   "execution_count": 15,
   "id": "fb8d3c79",
   "metadata": {},
   "outputs": [],
   "source": [
    "params = {\n",
    "    'capacity': 2, # MW\n",
    "    'invest': 963000, # €/MW\n",
    "    'cost_qfix': 11340, # €/MW/year\n",
    "    'lifetime': 30, # years\n",
    "    'wacc': 0.073,  \n",
    "    'availability': 0.9\n",
    "}"
   ]
  },
  {
   "cell_type": "code",
   "execution_count": 8,
   "id": "62cd489d",
   "metadata": {},
   "outputs": [
    {
     "data": {
      "text/html": [
       "<div>\n",
       "<style scoped>\n",
       "    .dataframe tbody tr th:only-of-type {\n",
       "        vertical-align: middle;\n",
       "    }\n",
       "\n",
       "    .dataframe tbody tr th {\n",
       "        vertical-align: top;\n",
       "    }\n",
       "\n",
       "    .dataframe thead th {\n",
       "        text-align: right;\n",
       "    }\n",
       "</style>\n",
       "<table border=\"1\" class=\"dataframe\">\n",
       "  <thead>\n",
       "    <tr style=\"text-align: right;\">\n",
       "      <th></th>\n",
       "      <th>x_m</th>\n",
       "      <th>y_m</th>\n",
       "      <th>lcoe_eur_per_mwh</th>\n",
       "      <th>disamenity_cost_eur_per_turbine</th>\n",
       "    </tr>\n",
       "  </thead>\n",
       "  <tbody>\n",
       "    <tr>\n",
       "      <th>0</th>\n",
       "      <td>4249600</td>\n",
       "      <td>3533599</td>\n",
       "      <td>20.569986</td>\n",
       "      <td>21.648275</td>\n",
       "    </tr>\n",
       "    <tr>\n",
       "      <th>1</th>\n",
       "      <td>4251500</td>\n",
       "      <td>3533599</td>\n",
       "      <td>20.666000</td>\n",
       "      <td>25.402365</td>\n",
       "    </tr>\n",
       "    <tr>\n",
       "      <th>2</th>\n",
       "      <td>4252425</td>\n",
       "      <td>3533200</td>\n",
       "      <td>20.574173</td>\n",
       "      <td>24.580761</td>\n",
       "    </tr>\n",
       "    <tr>\n",
       "      <th>3</th>\n",
       "      <td>4253425</td>\n",
       "      <td>3533299</td>\n",
       "      <td>20.640062</td>\n",
       "      <td>21.477843</td>\n",
       "    </tr>\n",
       "    <tr>\n",
       "      <th>4</th>\n",
       "      <td>4213000</td>\n",
       "      <td>3533099</td>\n",
       "      <td>18.386633</td>\n",
       "      <td>63.076881</td>\n",
       "    </tr>\n",
       "    <tr>\n",
       "      <th>...</th>\n",
       "      <td>...</td>\n",
       "      <td>...</td>\n",
       "      <td>...</td>\n",
       "      <td>...</td>\n",
       "    </tr>\n",
       "    <tr>\n",
       "      <th>25328</th>\n",
       "      <td>4343150</td>\n",
       "      <td>2697800</td>\n",
       "      <td>255.619873</td>\n",
       "      <td>743.324903</td>\n",
       "    </tr>\n",
       "    <tr>\n",
       "      <th>25329</th>\n",
       "      <td>4337900</td>\n",
       "      <td>2697099</td>\n",
       "      <td>85.802971</td>\n",
       "      <td>249.355203</td>\n",
       "    </tr>\n",
       "    <tr>\n",
       "      <th>25330</th>\n",
       "      <td>4342500</td>\n",
       "      <td>2697025</td>\n",
       "      <td>274.985718</td>\n",
       "      <td>669.046017</td>\n",
       "    </tr>\n",
       "    <tr>\n",
       "      <th>25331</th>\n",
       "      <td>4337100</td>\n",
       "      <td>2696475</td>\n",
       "      <td>119.502106</td>\n",
       "      <td>343.923431</td>\n",
       "    </tr>\n",
       "    <tr>\n",
       "      <th>25332</th>\n",
       "      <td>4343300</td>\n",
       "      <td>2696400</td>\n",
       "      <td>249.230026</td>\n",
       "      <td>744.080204</td>\n",
       "    </tr>\n",
       "  </tbody>\n",
       "</table>\n",
       "<p>25333 rows × 4 columns</p>\n",
       "</div>"
      ],
      "text/plain": [
       "           x_m      y_m  lcoe_eur_per_mwh  disamenity_cost_eur_per_turbine\n",
       "0      4249600  3533599         20.569986                        21.648275\n",
       "1      4251500  3533599         20.666000                        25.402365\n",
       "2      4252425  3533200         20.574173                        24.580761\n",
       "3      4253425  3533299         20.640062                        21.477843\n",
       "4      4213000  3533099         18.386633                        63.076881\n",
       "...        ...      ...               ...                              ...\n",
       "25328  4343150  2697800        255.619873                       743.324903\n",
       "25329  4337900  2697099         85.802971                       249.355203\n",
       "25330  4342500  2697025        274.985718                       669.046017\n",
       "25331  4337100  2696475        119.502106                       343.923431\n",
       "25332  4343300  2696400        249.230026                       744.080204\n",
       "\n",
       "[25333 rows x 4 columns]"
      ]
     },
     "execution_count": 8,
     "metadata": {},
     "output_type": "execute_result"
    }
   ],
   "source": [
    "turbines = pd.read_csv(\"../build/turbines-DE.csv\", index_col=0)\n",
    "turbines "
   ]
  },
  {
   "cell_type": "markdown",
   "id": "108f1b8e",
   "metadata": {},
   "source": [
    "# LCOE back of the envelope"
   ]
  },
  {
   "cell_type": "code",
   "execution_count": 20,
   "id": "9fb40c52",
   "metadata": {},
   "outputs": [],
   "source": [
    "afc = -numpy_financial.pmt(params['wacc'], params['lifetime'], params['invest'])"
   ]
  },
  {
   "cell_type": "code",
   "execution_count": 23,
   "id": "24e1a583",
   "metadata": {},
   "outputs": [
    {
     "data": {
      "text/plain": [
       "41.49837919283222"
      ]
     },
     "execution_count": 23,
     "metadata": {},
     "output_type": "execute_result"
    }
   ],
   "source": [
    "lcoe = (afc + params['cost_qfix']) / 2200\n",
    "lcoe"
   ]
  },
  {
   "cell_type": "markdown",
   "id": "ee435ea6",
   "metadata": {},
   "source": [
    "# Plot"
   ]
  },
  {
   "cell_type": "code",
   "execution_count": 30,
   "id": "a1b00ce7",
   "metadata": {},
   "outputs": [
    {
     "data": {
      "text/plain": [
       "<matplotlib.legend.Legend at 0x19ea34359c8>"
      ]
     },
     "execution_count": 30,
     "metadata": {},
     "output_type": "execute_result"
    },
    {
     "data": {
      "image/png": "[encoded data removed]",
      "text/plain": [
       "<Figure size 432x288 with 1 Axes>"
      ]
     },
     "metadata": {
      "needs_background": "light"
     },
     "output_type": "display_data"
    }
   ],
   "source": [
    "plt.figure()\n",
    "\n",
    "cumulative_capacity = [params['capacity'] / 1000 * x for x in range(len(turbines))]\n",
    "\n",
    "engineering_cost = turbines['lcoe_eur_per_mwh'].sort_values()\n",
    "plt.plot(cumulative_capacity, engineering_cost, label='Engineering cost')\n",
    "\n",
    "plt.xlabel('Cumulative capacity (GW)')\n",
    "plt.ylabel('Levelized cost of electricity (EUR/MWh)')\n",
    "plt.ylim([0,100])\n",
    "\n",
    "plt.legend()"
   ]
  },
  {
   "cell_type": "code",
   "execution_count": 34,
   "id": "f95a299f",
   "metadata": {},
   "outputs": [
    {
     "data": {
      "text/plain": [
       "<matplotlib.legend.Legend at 0x19ea33e2f48>"
      ]
     },
     "execution_count": 34,
     "metadata": {},
     "output_type": "execute_result"
    },
    {
     "data": {
      "image/png": "[encoded data removed]",
      "text/plain": [
       "<Figure size 432x288 with 1 Axes>"
      ]
     },
     "metadata": {
      "needs_background": "light"
     },
     "output_type": "display_data"
    }
   ],
   "source": [
    "plt.figure()\n",
    "\n",
    "cumulative_capacity = [params['capacity'] / 1000 * x for x in range(len(turbines))]\n",
    "\n",
    "engineering_cost = turbines['lcoe_eur_per_mwh'].sort_values()\n",
    "plt.plot(cumulative_capacity, engineering_cost, label='Engineering cost')\n",
    "\n",
    "disamenity_cost = (turbines['lcoe_eur_per_mwh'] + turbines['disamenity_cost_eur_per_turbine']).sort_values()\n",
    "plt.plot(cumulative_capacity, disamenity_cost, label='Engineering cost\\n+disamenity cost')\n",
    "\n",
    "plt.xlabel('Cumulative capacity (GW)')\n",
    "plt.ylabel('Levelized cost of electricity (EUR/MWh)')\n",
    "plt.ylim([0,200])\n",
    "\n",
    "plt.legend()"
   ]
  },
  {
   "cell_type": "code",
   "execution_count": null,
   "id": "b351308f",
   "metadata": {},
   "outputs": [],
   "source": [
    "lcoe "
   ]
  }
 ],
 "metadata": {
  "kernelspec": {
   "display_name": "Python 3 (ipykernel)",
   "language": "python",
   "name": "python3"
  },
  "language_info": {
   "codemirror_mode": {
    "name": "ipython",
    "version": 3
   },
   "file_extension": ".py",
   "mimetype": "text/x-python",
   "name": "python",
   "nbconvert_exporter": "python",
   "pygments_lexer": "ipython3",
   "version": "3.7.9"
  }
 },
 "nbformat": 4,
 "nbformat_minor": 5
}
