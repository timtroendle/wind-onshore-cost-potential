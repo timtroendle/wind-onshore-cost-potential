{
 "cells": [
  {
   "cell_type": "code",
   "execution_count": 11,
   "id": "2e9afee2-b7ec-4abe-9763-5476f7b26de9",
   "metadata": {},
   "outputs": [],
   "source": [
    "import math\n",
    "import numpy as np\n",
    "import pandas as pd\n",
    "\n",
    "from functools import lru_cache"
   ]
  },
  {
   "cell_type": "code",
   "execution_count": 12,
   "id": "6bfe724f-81f4-467d-b46a-ea283304e4c3",
   "metadata": {},
   "outputs": [],
   "source": [
    "def within_radius_mask(radius: float) -> np.ndarray:\n",
    "\n",
    "    @lru_cache(maxsize=128)\n",
    "    def within_radius(a, b, draws=1000000):\n",
    "        '''\n",
    "        This function returns the probability that the distance between a random point in the raster 0, 0 and a random\n",
    "        point in the raster a, b is smaller than a given radius r.\n",
    "        The units of a, b, and r are the resolution of the population raster (currently 1 km)\n",
    "        :param r: cutoff radius\n",
    "        :param a: distance of the rasters in one direction\n",
    "        :param b: distnace of the rasters in the other direction\n",
    "        :return: probability\n",
    "        '''\n",
    "        count = 0\n",
    "        for _ in range(draws):\n",
    "            x0, y0 = -0.5 + np.random.random(), -0.5 + np.random.random()\n",
    "            x1, y1 = a - 0.5 + np.random.random(), b - 0.5 + np.random.random()\n",
    "            distance = math.sqrt((x1-x0)**2 + (y1-y0)**2)\n",
    "            if distance < radius:\n",
    "                count += 1\n",
    "        return count/draws\n",
    "\n",
    "    ceil = int(np.ceil(radius))\n",
    "    rng = range(-ceil, ceil+1)\n",
    "    df = pd.DataFrame(index=rng, columns=rng, dtype=np.float64)\n",
    "    for x in rng:\n",
    "        for y in rng:\n",
    "            a, b = sorted([abs(x), abs(y)])\n",
    "            df.loc[x, y] = within_radius(a, b)\n",
    "\n",
    "    return df.round(2).values"
   ]
  },
  {
   "cell_type": "code",
   "execution_count": 13,
   "id": "aa207d69",
   "metadata": {},
   "outputs": [
    {
     "data": {
      "text/plain": [
       "array([[0.12, 0.42, 0.12],\n",
       "       [0.42, 0.98, 0.42],\n",
       "       [0.12, 0.42, 0.12]])"
      ]
     },
     "execution_count": 13,
     "metadata": {},
     "output_type": "execute_result"
    }
   ],
   "source": [
    "within_radius_mask(1)"
   ]
  },
  {
   "cell_type": "code",
   "execution_count": null,
   "id": "f1f1a152",
   "metadata": {},
   "outputs": [],
   "source": []
  }
 ],
 "metadata": {
  "kernelspec": {
   "display_name": "Python 3 (ipykernel)",
   "language": "python",
   "name": "python3"
  },
  "language_info": {
   "codemirror_mode": {
    "name": "ipython",
    "version": 3
   },
   "file_extension": ".py",
   "mimetype": "text/x-python",
   "name": "python",
   "nbconvert_exporter": "python",
   "pygments_lexer": "ipython3",
   "version": "3.8.12"
  }
 },
 "nbformat": 4,
 "nbformat_minor": 5
}
